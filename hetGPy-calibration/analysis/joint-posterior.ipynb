{
 "cells": [
  {
   "cell_type": "code",
   "execution_count": null,
   "metadata": {},
   "outputs": [],
   "source": [
    "import sys\n",
    "sys.path.append('../../')\n",
    "from fig1_calibration import create_sim as cs\n",
    "bounds = cs.define_pars(which='bounds')\n",
    "bounds['tn'][0] = 5.0\n",
    "keys = list(bounds.keys())\n",
    "import pandas as pd\n",
    "from scipy.stats import qmc\n",
    "\n",
    "diagnoses = pd.read_csv('../posterior/calibrated-diagnoses.csv')\n",
    "death = pd.read_csv('../posterior/calibrated-death.csv')"
   ]
  },
  {
   "cell_type": "code",
   "execution_count": null,
   "metadata": {},
   "outputs": [],
   "source": [
    "import matplotlib.pyplot as plt\n",
    "import seaborn as sns\n",
    "fig, ax = plt.subplots(ncols=2,nrows=2)\n",
    "ax = ax.flatten()\n",
    "overlap = pd.merge(diagnoses.round(2).reset_index(),death.round(2).reset_index(),on=keys)\n",
    "joint_post = diagnoses.reset_index()\n",
    "joint_post = joint_post.loc[joint_post['index'].isin(overlap['index_x'].values)]"
   ]
  },
  {
   "cell_type": "code",
   "execution_count": null,
   "metadata": {},
   "outputs": [],
   "source": [
    "posterior = pd.DataFrame(qmc.scale(joint_post[keys].values,\n",
    "                 l_bounds = [bounds[k][0] for k in keys],\n",
    "                 u_bounds = [bounds[k][1] for k in keys]),\n",
    "                 columns=keys)\n",
    "posterior"
   ]
  },
  {
   "cell_type": "code",
   "execution_count": null,
   "metadata": {},
   "outputs": [],
   "source": [
    "import numpy as np\n",
    "max_rand_seed = pd.read_csv('../data/sims_combined-wave004.csv')['rand_seed'].max()\n",
    "n = 50\n",
    "new_samples = posterior.sample(n=n,random_state=1)\n",
    "\n",
    "new_samples['rand_seed'] = max_rand_seed + 1\n",
    "new_samples['rand_seed'] += np.arange(n)\n",
    "new_samples.to_csv('posterior-samples.csv',index=False)"
   ]
  }
 ],
 "metadata": {
  "kernelspec": {
   "display_name": "pymc_env",
   "language": "python",
   "name": "python3"
  },
  "language_info": {
   "codemirror_mode": {
    "name": "ipython",
    "version": 3
   },
   "file_extension": ".py",
   "mimetype": "text/x-python",
   "name": "python",
   "nbconvert_exporter": "python",
   "pygments_lexer": "ipython3",
   "version": "3.12.7"
  }
 },
 "nbformat": 4,
 "nbformat_minor": 2
}
