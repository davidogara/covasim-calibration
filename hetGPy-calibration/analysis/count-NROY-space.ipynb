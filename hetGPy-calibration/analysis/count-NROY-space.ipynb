{
 "cells": [
  {
   "cell_type": "code",
   "execution_count": 3,
   "metadata": {},
   "outputs": [
    {
     "data": {
      "text/html": [
       "<div>\n",
       "<style scoped>\n",
       "    .dataframe tbody tr th:only-of-type {\n",
       "        vertical-align: middle;\n",
       "    }\n",
       "\n",
       "    .dataframe tbody tr th {\n",
       "        vertical-align: top;\n",
       "    }\n",
       "\n",
       "    .dataframe thead th {\n",
       "        text-align: right;\n",
       "    }\n",
       "</style>\n",
       "<table border=\"1\" class=\"dataframe\">\n",
       "  <thead>\n",
       "    <tr style=\"text-align: right;\">\n",
       "      <th></th>\n",
       "      <th>wave_num</th>\n",
       "      <th>n</th>\n",
       "      <th>percent</th>\n",
       "    </tr>\n",
       "  </thead>\n",
       "  <tbody>\n",
       "    <tr>\n",
       "      <th>0</th>\n",
       "      <td>1</td>\n",
       "      <td>184974</td>\n",
       "      <td>7.225547</td>\n",
       "    </tr>\n",
       "    <tr>\n",
       "      <th>0</th>\n",
       "      <td>2</td>\n",
       "      <td>142813</td>\n",
       "      <td>5.578633</td>\n",
       "    </tr>\n",
       "    <tr>\n",
       "      <th>0</th>\n",
       "      <td>3</td>\n",
       "      <td>54848</td>\n",
       "      <td>2.142500</td>\n",
       "    </tr>\n",
       "    <tr>\n",
       "      <th>0</th>\n",
       "      <td>4</td>\n",
       "      <td>21114</td>\n",
       "      <td>0.824766</td>\n",
       "    </tr>\n",
       "  </tbody>\n",
       "</table>\n",
       "</div>"
      ],
      "text/plain": [
       "   wave_num       n   percent\n",
       "0         1  184974  7.225547\n",
       "0         2  142813  5.578633\n",
       "0         3   54848  2.142500\n",
       "0         4   21114  0.824766"
      ]
     },
     "execution_count": 3,
     "metadata": {},
     "output_type": "execute_result"
    }
   ],
   "source": [
    "import pandas as pd\n",
    "from glob import glob\n",
    "wave_files = sorted(glob('../hm_waves/NI_pars_wave*.csv'))\n",
    "N = int(40**4)\n",
    "def process(file,wave_num):\n",
    "    d = pd.read_csv(file)\n",
    "    n = len(d)\n",
    "    return pd.DataFrame([{'wave_num':wave_num+1,'n':n,'percent':100*(n/N)}])\n",
    "df = pd.concat(\n",
    "    [process(file,i) for i,file in enumerate(wave_files)]\n",
    ")\n",
    "df"
   ]
  },
  {
   "cell_type": "code",
   "execution_count": 10,
   "metadata": {},
   "outputs": [
    {
     "data": {
      "text/plain": [
       "5300"
      ]
     },
     "execution_count": 10,
     "metadata": {},
     "output_type": "execute_result"
    }
   ],
   "source": [
    "# count total sims\n",
    "\n",
    "sim_files = ['../2024-07-03-sims_combined-tn-5.csv'] + glob('../data/sims_combined*.csv')\n",
    "\n",
    "df = pd.concat(\n",
    "    [pd.DataFrame([{'file':file,\n",
    "                   'N':pd.read_csv(file)['rand_seed'].nunique()}]) for file in sim_files]\n",
    "    )\n",
    "df['N'].sum()"
   ]
  }
 ],
 "metadata": {
  "kernelspec": {
   "display_name": ".covasim_calibration",
   "language": "python",
   "name": "python3"
  },
  "language_info": {
   "codemirror_mode": {
    "name": "ipython",
    "version": 3
   },
   "file_extension": ".py",
   "mimetype": "text/x-python",
   "name": "python",
   "nbconvert_exporter": "python",
   "pygments_lexer": "ipython3",
   "version": "3.10.15"
  }
 },
 "nbformat": 4,
 "nbformat_minor": 2
}
