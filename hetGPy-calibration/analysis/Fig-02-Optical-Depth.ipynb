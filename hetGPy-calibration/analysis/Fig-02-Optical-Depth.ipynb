{
 "cells": [
  {
   "cell_type": "code",
   "execution_count": null,
   "metadata": {},
   "outputs": [],
   "source": [
    "# optical depth plots\n",
    "import sys\n",
    "sys.path.append('../../')\n",
    "from fig1_calibration import create_sim as cs\n",
    "import pandas as pd\n",
    "import numpy as np\n",
    "import itertools\n",
    "import sciris as sc\n",
    "bounds = cs.define_pars(which='bounds',use_safegraph=True)\n",
    "bounds['tn'][0] = 5.0\n",
    "keys = list(bounds.keys())\n",
    "mapping = sc.objdict({\n",
    "    'beta'  : r'Overall $\\beta$',\n",
    "    'bc_wc1': r'Work/community $\\beta$ reduction',\n",
    "    'bc_lf' : r'LTCF $\\beta$ reduction',\n",
    "    'tn'   : 'Symptomatic testing OR',\n",
    "    })\n",
    "bounds\n"
   ]
  },
  {
   "cell_type": "code",
   "execution_count": null,
   "metadata": {},
   "outputs": [],
   "source": [
    "import matplotlib.pyplot as plt\n",
    "from itertools import combinations\n",
    "# plotting\n",
    "#%config InlineBackend.figure_formats = ['svg']\n",
    "from matplotlib import rc\n",
    "rc('font', **{'family': 'serif', 'serif': ['Times']})\n",
    "rc('text', usetex=False)\n",
    "df = pd.read_csv('../hm_waves/NI_pars_wave003.csv')\n",
    "\n",
    "\n",
    "def make_opt_depth_plot(df,k1,k2):\n",
    "    b1 = np.linspace(bounds[k1][0],bounds[k1][1],15)\n",
    "    b2 =  np.linspace(bounds[k2][0],bounds[k2][1],15)\n",
    "    H, xedges, yedges = np.histogram2d(df[k1].values, df[k2].values, bins=[b1,b2])\n",
    "    return H.T\n",
    "\n",
    "def opt_depth(df,plot_type='matrix'):\n",
    "\n",
    "    fig, ax = plt.subplots(nrows=2,ncols=3,figsize=(11.5,8.5),layout='compressed')\n",
    "    ax = ax.flatten()\n",
    "    keypairs = list(combinations(keys,2))\n",
    "    \n",
    "    for i, pair in enumerate(keypairs):\n",
    "        k1, k2 = pair\n",
    "        mat  = make_opt_depth_plot(df,k1,k2)\n",
    "        mat  = mat / mat.sum()\n",
    "        nticks = 3\n",
    "        xticks = np.linspace(bounds[k1][0],bounds[k1][1],nticks)\n",
    "        yticks = np.linspace(bounds[k2][0],bounds[k2][1],nticks)\n",
    "        if plot_type== 'matrix':\n",
    "            tmp = ax[i].imshow(mat,origin='lower',extent=[0,1,0,1],cmap='magma',vmin=0.0)\n",
    "        elif plot_type == 'contour':\n",
    "            cs = ax[i].contourf(mat,origin=None,extent=[0,1,0,1],cmap='magma',\n",
    "                                 vmin=0.0,vmax=mat.max(),levels=80,antialiased=True)\n",
    "            cs.set_edgecolor('face')\n",
    "            fig.colorbar(cs,ax=ax[i],shrink=0.9,\n",
    "                         ticks = np.linspace(0,mat.max(),3),format='%.2f')\n",
    "        ax[i].set_xticks(np.linspace(0,1,nticks))\n",
    "        ax[i].set_xticklabels(np.round(xticks,3))\n",
    "        ax[i].set_yticks(np.linspace(0,1,nticks))\n",
    "        ax[i].set_yticklabels(np.round(yticks,3))\n",
    "        ax[i].set_ylabel(mapping[k2])\n",
    "        ax[i].set_xlabel(mapping[k1])\n",
    "    ax = ax.reshape((2,3))\n",
    "    return fig, mat, cs, ax\n",
    "fig, mat, tmp, ax = opt_depth(df,plot_type='contour')\n",
    "\n",
    "fig.savefig('../figs/optical-depth-w-colorbar.pdf')\n"
   ]
  }
 ],
 "metadata": {
  "kernelspec": {
   "display_name": ".covasim_calibration",
   "language": "python",
   "name": "python3"
  },
  "language_info": {
   "codemirror_mode": {
    "name": "ipython",
    "version": 3
   },
   "file_extension": ".py",
   "mimetype": "text/x-python",
   "name": "python",
   "nbconvert_exporter": "python",
   "pygments_lexer": "ipython3",
   "version": "3.10.15"
  }
 },
 "nbformat": 4,
 "nbformat_minor": 2
}
